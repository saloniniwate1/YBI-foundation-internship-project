{
  "nbformat": 4,
  "nbformat_minor": 0,
  "metadata": {
    "colab": {
      "provenance": [],
      "authorship_tag": "ABX9TyNd7Xg2hwBOk9/9q4Ipy2Il",
      "include_colab_link": true
    },
    "kernelspec": {
      "name": "python3",
      "display_name": "Python 3"
    },
    "language_info": {
      "name": "python"
    }
  },
  "cells": [
    {
      "cell_type": "markdown",
      "metadata": {
        "id": "view-in-github",
        "colab_type": "text"
      },
      "source": [
        "<a href=\"https://colab.research.google.com/github/saloniniwate1/YBI-foundation-internship-project/blob/main/movie_recommendation_system.ipynb\" target=\"_parent\"><img src=\"https://colab.research.google.com/assets/colab-badge.svg\" alt=\"Open In Colab\"/></a>"
      ]
    },
    {
      "cell_type": "code",
      "source": [
        "import pandas as pd\n",
        "from sklearn.feature_extraction.text import TfidfVectorizer\n",
        "from sklearn.metrics.pairwise import cosine_similarity\n",
        "\n",
        "# Sample dataset\n",
        "data = {\n",
        "    'title': [\n",
        "        'Inception', 'Interstellar', 'The Dark Knight', 'Pulp Fiction',\n",
        "        'The Matrix', 'The Godfather', 'Fight Club', 'The Shawshank Redemption'\n",
        "    ],\n",
        "    'description': [\n",
        "        'A thief who enters dreams to steal secrets.',\n",
        "        'A team of explorers travel through a wormhole in space.',\n",
        "        'Batman fights crime in Gotham City against Joker.',\n",
        "        'Two hitmen, a boxer, and a gangster’s wife have intersecting stories.',\n",
        "        'A hacker learns about the reality of his world.',\n",
        "        'The aging patriarch of a crime family transfers control.',\n",
        "        'An insomniac office worker forms an underground fight club.',\n",
        "        'Two imprisoned men bond over years in prison.'\n",
        "    ]\n",
        "}\n",
        "\n",
        "# Create DataFrame\n",
        "df = pd.DataFrame(data)\n",
        "\n",
        "# Vectorizing text using TF-IDF\n",
        "tfidf = TfidfVectorizer(stop_words='english')\n",
        "tfidf_matrix = tfidf.fit_transform(df['description'])\n",
        "\n",
        "# Compute similarity\n",
        "cosine_sim = cosine_similarity(tfidf_matrix, tfidf_matrix)\n",
        "\n",
        "# Function to get recommendations\n",
        "def recommend_movie(movie_title, df=df, cosine_sim=cosine_sim):\n",
        "    if movie_title not in df['title'].values:\n",
        "        return \"Movie not found in database.\"\n",
        "\n",
        "    # Get the index of the movie\n",
        "    idx = df[df['title'] == movie_title].index[0]\n",
        "\n",
        "    # Get similarity scores\n",
        "    sim_scores = list(enumerate(cosine_sim[idx]))\n",
        "\n",
        "    # Sort movies based on similarity score\n",
        "    sim_scores = sorted(sim_scores, key=lambda x: x[1], reverse=True)[1:4]  # Top 3 recommendations\n",
        "\n",
        "    # Get movie titles\n",
        "    movie_indices = [i[0] for i in sim_scores]\n",
        "    return df['title'].iloc[movie_indices].tolist()\n",
        "\n",
        "# Test the function\n",
        "print(recommend_movie('Inception'))"
      ],
      "metadata": {
        "colab": {
          "base_uri": "https://localhost:8080/"
        },
        "id": "2Kx_t1VY06tI",
        "outputId": "c9c0316e-10e1-4116-9713-fa7f98bf6fc0"
      },
      "execution_count": 3,
      "outputs": [
        {
          "output_type": "stream",
          "name": "stdout",
          "text": [
            "['Interstellar', 'The Dark Knight', 'Pulp Fiction']\n"
          ]
        }
      ]
    }
  ]
}